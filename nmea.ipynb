{
 "cells": [
  {
   "cell_type": "markdown",
   "metadata": {},
   "source": [
    "## Declare Required Libraries"
   ]
  },
  {
   "cell_type": "code",
   "execution_count": null,
   "metadata": {},
   "outputs": [],
   "source": [
    "import matplotlib.pyplot as plt\n",
    "import folium\n",
    "from nmea import reader as nmea"
   ]
  },
  {
   "cell_type": "markdown",
   "metadata": {},
   "source": [
    "## Load NMEA file"
   ]
  },
  {
   "cell_type": "code",
   "execution_count": null,
   "metadata": {},
   "outputs": [],
   "source": [
    "name = 'gps.txt'\n",
    "nmeaDF = nmea.read_nmea(name)"
   ]
  },
  {
   "cell_type": "markdown",
   "metadata": {},
   "source": [
    "## Check Message Types in file"
   ]
  },
  {
   "cell_type": "code",
   "execution_count": null,
   "metadata": {},
   "outputs": [],
   "source": [
    "nmeaDF['COL1'].unique()"
   ]
  },
  {
   "cell_type": "markdown",
   "metadata": {},
   "source": [
    "## Analyze NMEA messages"
   ]
  },
  {
   "cell_type": "markdown",
   "metadata": {},
   "source": [
    "### Non analized message types"
   ]
  },
  {
   "cell_type": "code",
   "execution_count": null,
   "metadata": {},
   "outputs": [],
   "source": [
    "nmeaDF.query(\"cksum.isnull()\")['COL1'].unique()"
   ]
  },
  {
   "cell_type": "markdown",
   "metadata": {},
   "source": [
    "### TXT messages"
   ]
  },
  {
   "cell_type": "code",
   "execution_count": null,
   "metadata": {},
   "outputs": [],
   "source": [
    "nmeaDF.query(\"COL1.str.contains('^.+TXT$', regex=True)\").loc[:, ['COL1','msg_num','msg_no','msg_type','msg_txt','cksum']]"
   ]
  },
  {
   "cell_type": "markdown",
   "metadata": {},
   "source": [
    "### GSA Messages"
   ]
  },
  {
   "cell_type": "code",
   "execution_count": null,
   "metadata": {},
   "outputs": [],
   "source": [
    "nmeaDF.query(\"COL1.str.contains('^.+GSA', regex=True)\").loc[:,['COL1','mode','status','sat_nos','pdop','hdop','vdop','sat_type','cksum']]"
   ]
  },
  {
   "cell_type": "markdown",
   "metadata": {},
   "source": [
    "### GSV Messages"
   ]
  },
  {
   "cell_type": "code",
   "execution_count": null,
   "metadata": {},
   "outputs": [],
   "source": [
    "nmeaDF.query(\"COL1.str.contains('^.+GSV$', regex=True)\").loc[:, ['COL1','sv_type','sv_msgs','sv_msg_no','sv_vlsibles','cksum']]"
   ]
  },
  {
   "cell_type": "markdown",
   "metadata": {},
   "source": [
    "### GLL Messages"
   ]
  },
  {
   "cell_type": "code",
   "execution_count": null,
   "metadata": {},
   "outputs": [],
   "source": [
    "nmeaDF.query(\"COL1.str.contains('^.+GLL$', regex=True)\").loc[:, ['COL1','latitude','longitude','time','status','mode','cksum']]"
   ]
  },
  {
   "cell_type": "markdown",
   "metadata": {},
   "source": [
    "### VTG Messages"
   ]
  },
  {
   "cell_type": "code",
   "execution_count": null,
   "metadata": {},
   "outputs": [],
   "source": [
    "nmeaDF.query(\"COL1.str.contains('^.+VTG$', regex=True)\").loc[:, ['COL1','true_azimuth','magnetic_azimuth','knot','kmh','mode','cksum']]"
   ]
  },
  {
   "cell_type": "markdown",
   "metadata": {},
   "source": [
    "### ZDA Messages"
   ]
  },
  {
   "cell_type": "code",
   "execution_count": null,
   "metadata": {},
   "outputs": [],
   "source": [
    "nmeaDF.query(\"COL1.str.contains('^.+ZDA$', regex=True)\").loc[:, ['COL1','time','date','tz_offset','cksum']]"
   ]
  },
  {
   "cell_type": "markdown",
   "metadata": {},
   "source": [
    "### GGA Messages"
   ]
  },
  {
   "cell_type": "code",
   "execution_count": null,
   "metadata": {},
   "outputs": [],
   "source": [
    "nmeaDF.query(\"COL1.str.contains('^.+GGA$', regex=True) & mode!=0\").loc[:, ['COL1','time','latitude','longitude','mode','satellites','hdop','altitude','geoid','age','cksum']]"
   ]
  },
  {
   "cell_type": "markdown",
   "metadata": {},
   "source": [
    "#### GGA Messages: Charts"
   ]
  },
  {
   "cell_type": "code",
   "execution_count": null,
   "metadata": {},
   "outputs": [],
   "source": [
    "ggaDF = nmeaDF.query('COL1 == \"$GNGGA\"')\n",
    "ggaDF['valid'] = ggaDF['mode'].apply(lambda x: 0 if x=='0' else 1)\n",
    "x = ggaDF.index.tolist()\n",
    "\n",
    "titles = ['valid', 'latitude','longitude','mode','satellites','hdop','altitude','geoid']\n",
    "fig, axes = plt.subplots(len(titles), 1)\n",
    "fig.set_figwidth(16)\n",
    "fig.set_figheight(6)\n",
    "for i in range(len(titles)):\n",
    "    axis = axes[i]\n",
    "    axis.plot(x, ggaDF[titles[i]].tolist())\n",
    "    axis.set_title(titles[i], loc='Left', pad=-14)\n",
    "    axis.set_xlim(0, max(x))\n",
    "    axis.tick_params(labelbottom=False, labelleft=True, labelright=False, labeltop=False)                    \n",
    "axes[len(titles)-1].tick_params(labelbottom=True)\n",
    "plt.show()"
   ]
  },
  {
   "cell_type": "markdown",
   "metadata": {},
   "source": [
    "### RMC Messages"
   ]
  },
  {
   "cell_type": "code",
   "execution_count": null,
   "metadata": {},
   "outputs": [],
   "source": [
    "nmeaDF.query(\"COL1.str.contains('^.+RMC$', regex=True) & status=='A'\").loc[:, ['COL1','datetime','status','latitude','longitude','knot','true_azimuth','magnetic_declination','mode','cksum']]"
   ]
  },
  {
   "cell_type": "markdown",
   "metadata": {},
   "source": [
    "#### RMC Messages: Routes"
   ]
  },
  {
   "cell_type": "code",
   "execution_count": null,
   "metadata": {},
   "outputs": [],
   "source": [
    "rmcDF = nmeaDF.query('COL1 == \"$GNRMC\" and COL3 ==\"A\"')\n",
    "locations = rmcDF[['latitude', 'longitude']].values.tolist()\n",
    "locations\n",
    "map = folium.Map(location=locations[0], tiles=\"OpenStreetMap\", zoom_start=15)\n",
    "folium.PolyLine(locations=locations).add_to(map)\n",
    "map"
   ]
  },
  {
   "cell_type": "markdown",
   "metadata": {},
   "source": [
    "#### RMC Messages: Charts"
   ]
  },
  {
   "cell_type": "code",
   "execution_count": null,
   "metadata": {},
   "outputs": [],
   "source": [
    "rmcDF = nmeaDF.query('COL1 == \"$GNRMC\"')\n",
    "rmcDF['valid'] = rmcDF['status'].apply(lambda x: 1 if x=='A' else 0)\n",
    "x = rmcDF.index.tolist()\n",
    "\n",
    "titles = ['valid', 'latitude','longitude','knot','true_azimuth']\n",
    "fig, axes = plt.subplots(len(titles), 1)\n",
    "fig.set_figwidth(16)\n",
    "fig.set_figheight(6)\n",
    "for i in range(len(titles)):\n",
    "    axis = axes[i]\n",
    "    axis.plot(x, rmcDF[titles[i]].tolist())\n",
    "    axis.set_title(titles[i], loc='Left', pad=-14)\n",
    "    axis.set_xlim(0, max(x))\n",
    "    axis.tick_params(labelbottom=False, labelleft=True, labelright=False, labeltop=False)                    \n",
    "axes[len(titles)-1].tick_params(labelbottom=True)\n",
    "plt.show()"
   ]
  }
 ],
 "metadata": {
  "kernelspec": {
   "display_name": "Python 3",
   "language": "python",
   "name": "python3"
  },
  "language_info": {
   "codemirror_mode": {
    "name": "ipython",
    "version": 3
   },
   "file_extension": ".py",
   "mimetype": "text/x-python",
   "name": "python",
   "nbconvert_exporter": "python",
   "pygments_lexer": "ipython3",
   "version": "3.9.6"
  }
 },
 "nbformat": 4,
 "nbformat_minor": 2
}
